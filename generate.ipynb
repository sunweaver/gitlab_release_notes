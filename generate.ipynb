{
 "cells": [
  {
   "cell_type": "code",
   "execution_count": null,
   "id": "c12547f4-0d4c-42dd-b4f0-2aeabeea35bc",
   "metadata": {},
   "outputs": [],
   "source": [
    "from gitlabrng import generate"
   ]
  },
  {
   "cell_type": "code",
   "execution_count": null,
   "id": "3e86545f-d075-4704-8d86-0ffb30d59a74",
   "metadata": {},
   "outputs": [],
   "source": [
    "# replace the project_id and gitlab_url with yours\n",
    "generate.generate_release_notes(14117, gitlab_url='https://gitlab.in2p3.fr/')"
   ]
  },
  {
   "cell_type": "code",
   "execution_count": null,
   "id": "c8a8896d-5401-4a64-b007-093cd11c5d2e",
   "metadata": {},
   "outputs": [],
   "source": []
  }
 ],
 "metadata": {
  "kernelspec": {
   "display_name": "Python 3 (ipykernel)",
   "language": "python",
   "name": "python3"
  },
  "language_info": {
   "codemirror_mode": {
    "name": "ipython",
    "version": 3
   },
   "file_extension": ".py",
   "mimetype": "text/x-python",
   "name": "python",
   "nbconvert_exporter": "python",
   "pygments_lexer": "ipython3",
   "version": "3.10.1"
  }
 },
 "nbformat": 4,
 "nbformat_minor": 5
}
