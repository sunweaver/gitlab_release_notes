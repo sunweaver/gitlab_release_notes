{
 "cells": [
  {
   "cell_type": "code",
   "execution_count": null,
   "id": "c12547f4-0d4c-42dd-b4f0-2aeabeea35bc",
   "metadata": {},
   "outputs": [],
   "source": [
    "from gitlab_release_notes import generate"
   ]
  },
  {
   "cell_type": "code",
   "execution_count": null,
   "id": "3e86545f-d075-4704-8d86-0ffb30d59a74",
   "metadata": {},
   "outputs": [],
   "source": [
    "# replace the project_id and gitlab_url with yours\n",
    "config = dict(\n",
    "    url = 'https://gitlab.in2p3.fr/',\n",
    "    private_token = ''\n",
    ")\n",
    "\n",
    "generate.generate_release_notes(14117, **config)"
   ]
  },
  {
   "cell_type": "code",
   "execution_count": null,
   "id": "5589fc57-dfb4-4b1c-bfdb-cb838ee88937",
   "metadata": {},
   "outputs": [],
   "source": []
  }
 ],
 "metadata": {
  "kernelspec": {
   "display_name": "Python 3 (ipykernel)",
   "language": "python",
   "name": "python3"
  },
  "language_info": {
   "codemirror_mode": {
    "name": "ipython",
    "version": 3
   },
   "file_extension": ".py",
   "mimetype": "text/x-python",
   "name": "python",
   "nbconvert_exporter": "python",
   "pygments_lexer": "ipython3",
   "version": "3.8.5"
  }
 },
 "nbformat": 4,
 "nbformat_minor": 5
}
